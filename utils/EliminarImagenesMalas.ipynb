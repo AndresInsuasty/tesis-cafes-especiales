{
  "nbformat": 4,
  "nbformat_minor": 0,
  "metadata": {
    "colab": {
      "name": "EliminarImagenesMalas.ipynb",
      "provenance": [],
      "mount_file_id": "1dDSKKcgdJtxq6gB8SOtw3EtXMDUFt9z8",
      "authorship_tag": "ABX9TyNG+EMqwJ3MOxZ0JnBM6gPY",
      "include_colab_link": true
    },
    "kernelspec": {
      "name": "python3",
      "display_name": "Python 3"
    },
    "language_info": {
      "name": "python"
    }
  },
  "cells": [
    {
      "cell_type": "markdown",
      "metadata": {
        "id": "view-in-github",
        "colab_type": "text"
      },
      "source": [
        "<a href=\"https://colab.research.google.com/github/AndresInsuasty/tesis-cafes-especiales/blob/main/utils/EliminarImagenesMalas.ipynb\" target=\"_parent\"><img src=\"https://colab.research.google.com/assets/colab-badge.svg\" alt=\"Open In Colab\"/></a>"
      ]
    },
    {
      "cell_type": "markdown",
      "metadata": {
        "id": "rfqWaViXXckC"
      },
      "source": [
        "# Script para eliminar imagenes"
      ]
    },
    {
      "cell_type": "code",
      "metadata": {
        "id": "a5FqOtwOXVNB"
      },
      "source": [
        "PATH_NDVI = '/content/drive/MyDrive/segmentado/dataset2/ndvi'\n",
        "PATH_BANDAS = '/content/drive/MyDrive/segmentado/dataset2/bandas'"
      ],
      "execution_count": 28,
      "outputs": []
    },
    {
      "cell_type": "code",
      "metadata": {
        "id": "n8VVn2M7YWCE"
      },
      "source": [
        "import os\n",
        "import pandas as pd\n",
        "#os.listdir(PATH_NDVI)"
      ],
      "execution_count": 29,
      "outputs": []
    },
    {
      "cell_type": "code",
      "metadata": {
        "id": "pYEsbU5aYe7X"
      },
      "source": [
        "data = pd.read_csv('lista.txt')"
      ],
      "execution_count": 30,
      "outputs": []
    },
    {
      "cell_type": "code",
      "metadata": {
        "id": "pRQzqFLkZzfF"
      },
      "source": [
        "for i in range(data.shape[0]):\n",
        "    aux = data.loc[i]\n",
        "    ndvi_img = aux.imgs\n",
        "    b1_img = aux.imgs.replace('ndvi','b1')\n",
        "    b2_img = aux.imgs.replace('ndvi','b2')\n",
        "    b3_img = aux.imgs.replace('ndvi','b3')\n",
        "    b4_img = aux.imgs.replace('ndvi','b4')\n",
        "    os.remove('{PATH_NDVI}/{ndvi_img}'.format(PATH_NDVI=PATH_NDVI,ndvi_img=ndvi_img))\n",
        "    os.remove('{PATH_BANDAS}/{b1_img}'.format(PATH_BANDAS=PATH_BANDAS,b1_img=b1_img))\n",
        "    os.remove('{PATH_BANDAS}/{b2_img}'.format(PATH_BANDAS=PATH_BANDAS,b2_img=b2_img))\n",
        "    os.remove('{PATH_BANDAS}/{b3_img}'.format(PATH_BANDAS=PATH_BANDAS,b3_img=b3_img))\n",
        "    os.remove('{PATH_BANDAS}/{b4_img}'.format(PATH_BANDAS=PATH_BANDAS,b4_img=b4_img))"
      ],
      "execution_count": 31,
      "outputs": []
    },
    {
      "cell_type": "code",
      "metadata": {
        "id": "JIn1hAXFdFMg"
      },
      "source": [
        ""
      ],
      "execution_count": null,
      "outputs": []
    }
  ]
}